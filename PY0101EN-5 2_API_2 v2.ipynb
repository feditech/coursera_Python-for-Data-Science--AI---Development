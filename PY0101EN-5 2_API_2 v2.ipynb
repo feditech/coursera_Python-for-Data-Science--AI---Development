{
 "cells": [
  {
   "cell_type": "markdown",
   "metadata": {},
   "source": [
    "<center>\n",
    "    <img src=\"https://cf-courses-data.s3.us.cloud-object-storage.appdomain.cloud/assets/logos/SN_web_lightmode.png\" width=\"300\" alt=\"cognitiveclass.ai logo\">\n",
    "</center>\n",
    "\n",
    "# Hands-on Lab: API Examples\n",
    "## Random User and Fruityvice API Examples\n",
    "\n",
    "\n",
    "Estimated time needed: **30** minutes\n",
    "\n",
    "## Objectives\n",
    "\n",
    "After completing this lab you will be able to:\n",
    "\n",
    "*   Load and use RandomUser API, using `RandomUser()` Python library\n",
    "*   Load and use Fruityvice API, using `requests` Python library\n",
    "*   Load and use Open-Joke-API, using `requests` Python library\n",
    "\n"
   ]
  },
  {
   "cell_type": "markdown",
   "metadata": {},
   "source": [
    "The purpose of this notebook is to provide more examples on how to use simple APIs. As you have already learned from previous videos and notebooks, API stands for Application Programming Interface and is a software intermediary that allows two applications to talk to each other. \n",
    "\n",
    "The advantages of using APIs:\n",
    " *   **Automation**. Less human effort is required and workflows can be easily updated to become faster and more      \n",
    "     productive.\n",
    " *   **Efficiency**. It allows to use the capabilities of one of the already developed APIs than to try to \n",
    "     independently implement some functionality from scratch.\n",
    " \n",
    "The disadvantage of using APIs:\n",
    " *   **Security**. If the API is poorly integrated, it means it will be vulnerable to attacks, resulting in data breeches or losses having financial or reputation implications.\n",
    "\n",
    "One of the applications we will use in this notebook is Random User Generator. RandomUser is an open-source, free API providing developers with randomly generated users to be used as placeholders for testing purposes. This makes the tool similar to Lorem Ipsum, but is a placeholder for people instead of text. The API can return multiple results, as well as specify generated user details such as gender, email, image, username, address, title, first and last name, and more. More information on [RandomUser](https://randomuser.me/documentation#intro) can be found here.\n",
    "\n",
    "Another example of simple API we will use in this notebook is Fruityvice application. The Fruityvice API web service which provides data for all kinds of fruit! You can use Fruityvice to find out interesting information about fruit and educate yourself. The web service is completely free to use and contribute to.\n"
   ]
  },
  {
   "cell_type": "markdown",
   "metadata": {},
   "source": [
    "## Example 1: RandomUser API\n",
    "Bellow are Get Methods parameters that we can generate. For more information on the parameters, please visit this [documentation](https://randomuser.me/documentation) page.\n"
   ]
  },
  {
   "cell_type": "markdown",
   "metadata": {},
   "source": [
    "## **Get Methods**\n",
    "\n",
    "- get_cell()\n",
    "- get_city()\n",
    "- get_dob()\n",
    "- get_email()\n",
    "- get_first_name()\n",
    "- get_full_name()\n",
    "- get_gender()\n",
    "- get_id()\n",
    "- get_id_number()\n",
    "- get_id_type()\n",
    "- get_info()\n",
    "- get_last_name()\n",
    "- get_login_md5()\n",
    "- get_login_salt()\n",
    "- get_login_sha1()\n",
    "- get_login_sha256()\n",
    "- get_nat()\n",
    "- get_password()\n",
    "- get_phone()\n",
    "- get_picture()\n",
    "- get_postcode()\n",
    "- get_registered()\n",
    "- get_state()\n",
    "- get_street()\n",
    "- get_username()\n",
    "- get_zipcode()\n"
   ]
  },
  {
   "cell_type": "markdown",
   "metadata": {},
   "source": [
    "To start using the API you can install the `randomuser` library running the `pip install` command.\n"
   ]
  },
  {
   "cell_type": "code",
   "execution_count": 2,
   "metadata": {},
   "outputs": [
    {
     "name": "stdout",
     "output_type": "stream",
     "text": [
      "Collecting randomuser\n",
      "  Using cached randomuser-1.6.tar.gz (5.0 kB)\n",
      "  Preparing metadata (setup.py): started\n",
      "  Preparing metadata (setup.py): finished with status 'done'\n",
      "Building wheels for collected packages: randomuser\n",
      "  Building wheel for randomuser (setup.py): started\n",
      "  Building wheel for randomuser (setup.py): finished with status 'done'\n",
      "  Created wheel for randomuser: filename=randomuser-1.6-py3-none-any.whl size=5093 sha256=b4db4618df4e949e875b84c64eea4de4ccf34bd2566bd29a9c1faaf8c654c6c8\n",
      "  Stored in directory: c:\\users\\fediboi\\appdata\\local\\pip\\cache\\wheels\\fc\\8d\\74\\bcdd5e8a9433bfa4c4f9c1cccbfec40139322a28d77f61e45e\n",
      "Successfully built randomuser\n",
      "Installing collected packages: randomuser\n",
      "Successfully installed randomuser-1.6\n"
     ]
    }
   ],
   "source": [
    "!{sys.executable} -m pip install randomuser"
   ]
  },
  {
   "cell_type": "markdown",
   "metadata": {},
   "source": [
    "Then, we will load the necessary libraries.\n"
   ]
  },
  {
   "cell_type": "code",
   "execution_count": 3,
   "metadata": {},
   "outputs": [],
   "source": [
    "\n",
    "\n",
    "from randomuser import RandomUser\n",
    "import pandas as pd"
   ]
  },
  {
   "cell_type": "markdown",
   "metadata": {},
   "source": [
    "First, we will create a random user object, r.\n"
   ]
  },
  {
   "cell_type": "code",
   "execution_count": 4,
   "metadata": {},
   "outputs": [],
   "source": [
    "r = RandomUser()"
   ]
  },
  {
   "cell_type": "markdown",
   "metadata": {},
   "source": [
    "Then, using `generate_users()` function, we get a list of random 10 users.\n"
   ]
  },
  {
   "cell_type": "code",
   "execution_count": 5,
   "metadata": {},
   "outputs": [],
   "source": [
    "some_list = r.generate_users(10)"
   ]
  },
  {
   "cell_type": "code",
   "execution_count": 6,
   "metadata": {},
   "outputs": [
    {
     "data": {
      "text/plain": [
       "[<randomuser.RandomUser at 0x16535b4ddd0>,\n",
       " <randomuser.RandomUser at 0x16535b4de10>,\n",
       " <randomuser.RandomUser at 0x16535b4de50>,\n",
       " <randomuser.RandomUser at 0x16535b4de90>,\n",
       " <randomuser.RandomUser at 0x16535b4ded0>,\n",
       " <randomuser.RandomUser at 0x16535b4df50>,\n",
       " <randomuser.RandomUser at 0x16535b4df90>,\n",
       " <randomuser.RandomUser at 0x16535b4dfd0>,\n",
       " <randomuser.RandomUser at 0x16535b4e010>,\n",
       " <randomuser.RandomUser at 0x16535b4df10>]"
      ]
     },
     "execution_count": 6,
     "metadata": {},
     "output_type": "execute_result"
    }
   ],
   "source": [
    "some_list"
   ]
  },
  {
   "cell_type": "markdown",
   "metadata": {},
   "source": [
    "The **\"Get Methods\"** functions mentioned at the beginning of this notebook, can generate the required parameters to construct a dataset. For example, to get full name, we call `get_full_name()` function.\n"
   ]
  },
  {
   "cell_type": "code",
   "execution_count": 7,
   "metadata": {},
   "outputs": [],
   "source": [
    "name = r.get_full_name()"
   ]
  },
  {
   "cell_type": "markdown",
   "metadata": {},
   "source": [
    "Let's say we only need 10 users with full names and their email addresses. We can write a \"for-loop\" to print these 10 users.\n"
   ]
  },
  {
   "cell_type": "code",
   "execution_count": 8,
   "metadata": {},
   "outputs": [
    {
     "name": "stdout",
     "output_type": "stream",
     "text": [
      "Catherine Long   catherine.long@example.com\n",
      "Morris Ray   morris.ray@example.com\n",
      "Baptist Duwe   baptist.duwe@example.com\n",
      "زهرا پارسا   zhr.prs@example.com\n",
      "Samuel Luoma   samuel.luoma@example.com\n",
      "Laura Johansen   laura.johansen@example.com\n",
      "Delani Melo   delani.melo@example.com\n",
      "Brooke Nichols   brooke.nichols@example.com\n",
      "Oswald Guerin   oswald.guerin@example.com\n",
      "Mia Gaillard   mia.gaillard@example.com\n"
     ]
    }
   ],
   "source": [
    "for user in some_list:\n",
    "    print (user.get_full_name(),\" \",user.get_email())"
   ]
  },
  {
   "cell_type": "markdown",
   "metadata": {},
   "source": [
    "## Exercise 1\n",
    "In this Exercise, generate photos of the random 10 users.\n"
   ]
  },
  {
   "cell_type": "code",
   "execution_count": 9,
   "metadata": {},
   "outputs": [
    {
     "name": "stdout",
     "output_type": "stream",
     "text": [
      "https://randomuser.me/api/portraits/women/46.jpg\n",
      "https://randomuser.me/api/portraits/men/17.jpg\n",
      "https://randomuser.me/api/portraits/men/27.jpg\n",
      "https://randomuser.me/api/portraits/women/74.jpg\n",
      "https://randomuser.me/api/portraits/men/24.jpg\n",
      "https://randomuser.me/api/portraits/women/9.jpg\n",
      "https://randomuser.me/api/portraits/women/39.jpg\n",
      "https://randomuser.me/api/portraits/women/90.jpg\n",
      "https://randomuser.me/api/portraits/men/28.jpg\n",
      "https://randomuser.me/api/portraits/women/82.jpg\n"
     ]
    }
   ],
   "source": [
    "## Write your code here\n",
    "for user in some_list:\n",
    "    print(user.get_picture())"
   ]
  },
  {
   "cell_type": "markdown",
   "metadata": {},
   "source": [
    "<details><summary>Click here for the solution</summary>\n",
    "\n",
    "```python\n",
    "for user in some_list:\n",
    "    print (user.get_picture())\n",
    "```\n",
    "\n",
    "</details>\n"
   ]
  },
  {
   "cell_type": "markdown",
   "metadata": {},
   "source": [
    "To generate a table with information about the users, we can write a function containing all desirable parameters. For example, name, gender, city, etc. The parameters will depend on the requirements of the test to be performed. We call the Get Methods, listed at the beginning of this notebook. Then, we return pandas dataframe with the users.\n"
   ]
  },
  {
   "cell_type": "code",
   "execution_count": 10,
   "metadata": {},
   "outputs": [],
   "source": [
    "def get_users():\n",
    "    users =[]\n",
    "     \n",
    "    for user in RandomUser.generate_users(10):\n",
    "        users.append({\"Name\":user.get_full_name(),\"Gender\":user.get_gender(),\"City\":user.get_city(),\"State\":user.get_state(),\"Email\":user.get_email(), \"DOB\":user.get_dob(),\"Picture\":user.get_picture()})\n",
    "      \n",
    "    return pd.DataFrame(users)     "
   ]
  },
  {
   "cell_type": "code",
   "execution_count": 11,
   "metadata": {},
   "outputs": [
    {
     "data": {
      "text/html": [
       "<div>\n",
       "<style scoped>\n",
       "    .dataframe tbody tr th:only-of-type {\n",
       "        vertical-align: middle;\n",
       "    }\n",
       "\n",
       "    .dataframe tbody tr th {\n",
       "        vertical-align: top;\n",
       "    }\n",
       "\n",
       "    .dataframe thead th {\n",
       "        text-align: right;\n",
       "    }\n",
       "</style>\n",
       "<table border=\"1\" class=\"dataframe\">\n",
       "  <thead>\n",
       "    <tr style=\"text-align: right;\">\n",
       "      <th></th>\n",
       "      <th>Name</th>\n",
       "      <th>Gender</th>\n",
       "      <th>City</th>\n",
       "      <th>State</th>\n",
       "      <th>Email</th>\n",
       "      <th>DOB</th>\n",
       "      <th>Picture</th>\n",
       "    </tr>\n",
       "  </thead>\n",
       "  <tbody>\n",
       "    <tr>\n",
       "      <th>0</th>\n",
       "      <td>Becky Scott</td>\n",
       "      <td>female</td>\n",
       "      <td>Roscrea</td>\n",
       "      <td>Monaghan</td>\n",
       "      <td>becky.scott@example.com</td>\n",
       "      <td>1960-05-01T18:45:46.988Z</td>\n",
       "      <td>https://randomuser.me/api/portraits/women/40.jpg</td>\n",
       "    </tr>\n",
       "    <tr>\n",
       "      <th>1</th>\n",
       "      <td>Gabriel Thies</td>\n",
       "      <td>male</td>\n",
       "      <td>Neuenstadt am Kocher</td>\n",
       "      <td>Hessen</td>\n",
       "      <td>gabriel.thies@example.com</td>\n",
       "      <td>1994-12-28T15:37:23.651Z</td>\n",
       "      <td>https://randomuser.me/api/portraits/men/40.jpg</td>\n",
       "    </tr>\n",
       "    <tr>\n",
       "      <th>2</th>\n",
       "      <td>Johanna Flohr</td>\n",
       "      <td>female</td>\n",
       "      <td>Munein</td>\n",
       "      <td>Zeeland</td>\n",
       "      <td>johanna.flohr@example.com</td>\n",
       "      <td>1980-01-23T12:37:19.195Z</td>\n",
       "      <td>https://randomuser.me/api/portraits/women/2.jpg</td>\n",
       "    </tr>\n",
       "    <tr>\n",
       "      <th>3</th>\n",
       "      <td>Letitia Cox</td>\n",
       "      <td>female</td>\n",
       "      <td>Tampa</td>\n",
       "      <td>South Carolina</td>\n",
       "      <td>letitia.cox@example.com</td>\n",
       "      <td>1959-10-05T20:49:22.905Z</td>\n",
       "      <td>https://randomuser.me/api/portraits/women/70.jpg</td>\n",
       "    </tr>\n",
       "    <tr>\n",
       "      <th>4</th>\n",
       "      <td>Flurin Roche</td>\n",
       "      <td>male</td>\n",
       "      <td>Brüttelen</td>\n",
       "      <td>Zug</td>\n",
       "      <td>flurin.roche@example.com</td>\n",
       "      <td>1972-03-18T06:22:43.341Z</td>\n",
       "      <td>https://randomuser.me/api/portraits/men/75.jpg</td>\n",
       "    </tr>\n",
       "    <tr>\n",
       "      <th>5</th>\n",
       "      <td>Verena Marie</td>\n",
       "      <td>female</td>\n",
       "      <td>Sins</td>\n",
       "      <td>Zürich</td>\n",
       "      <td>verena.marie@example.com</td>\n",
       "      <td>1970-07-30T21:41:34.071Z</td>\n",
       "      <td>https://randomuser.me/api/portraits/women/42.jpg</td>\n",
       "    </tr>\n",
       "    <tr>\n",
       "      <th>6</th>\n",
       "      <td>Annabelle Miller</td>\n",
       "      <td>female</td>\n",
       "      <td>Souris</td>\n",
       "      <td>Newfoundland and Labrador</td>\n",
       "      <td>annabelle.miller@example.com</td>\n",
       "      <td>1966-04-25T14:26:39.438Z</td>\n",
       "      <td>https://randomuser.me/api/portraits/women/1.jpg</td>\n",
       "    </tr>\n",
       "    <tr>\n",
       "      <th>7</th>\n",
       "      <td>Özsu Beşerler</td>\n",
       "      <td>female</td>\n",
       "      <td>Samsun</td>\n",
       "      <td>Giresun</td>\n",
       "      <td>ozsu.beserler@example.com</td>\n",
       "      <td>1974-05-07T19:41:22.012Z</td>\n",
       "      <td>https://randomuser.me/api/portraits/women/43.jpg</td>\n",
       "    </tr>\n",
       "    <tr>\n",
       "      <th>8</th>\n",
       "      <td>Jeremiah Burke</td>\n",
       "      <td>male</td>\n",
       "      <td>Tullow</td>\n",
       "      <td>Monaghan</td>\n",
       "      <td>jeremiah.burke@example.com</td>\n",
       "      <td>1985-04-14T00:50:04.289Z</td>\n",
       "      <td>https://randomuser.me/api/portraits/men/3.jpg</td>\n",
       "    </tr>\n",
       "    <tr>\n",
       "      <th>9</th>\n",
       "      <td>Jeton Dufour</td>\n",
       "      <td>male</td>\n",
       "      <td>Zollikon</td>\n",
       "      <td>Uri</td>\n",
       "      <td>jeton.dufour@example.com</td>\n",
       "      <td>1985-02-06T05:26:09.557Z</td>\n",
       "      <td>https://randomuser.me/api/portraits/men/74.jpg</td>\n",
       "    </tr>\n",
       "  </tbody>\n",
       "</table>\n",
       "</div>"
      ],
      "text/plain": [
       "               Name  Gender                  City                      State  \\\n",
       "0       Becky Scott  female               Roscrea                   Monaghan   \n",
       "1     Gabriel Thies    male  Neuenstadt am Kocher                     Hessen   \n",
       "2     Johanna Flohr  female                Munein                    Zeeland   \n",
       "3       Letitia Cox  female                 Tampa             South Carolina   \n",
       "4      Flurin Roche    male             Brüttelen                        Zug   \n",
       "5      Verena Marie  female                  Sins                     Zürich   \n",
       "6  Annabelle Miller  female                Souris  Newfoundland and Labrador   \n",
       "7     Özsu Beşerler  female                Samsun                    Giresun   \n",
       "8    Jeremiah Burke    male                Tullow                   Monaghan   \n",
       "9      Jeton Dufour    male              Zollikon                        Uri   \n",
       "\n",
       "                          Email                       DOB  \\\n",
       "0       becky.scott@example.com  1960-05-01T18:45:46.988Z   \n",
       "1     gabriel.thies@example.com  1994-12-28T15:37:23.651Z   \n",
       "2     johanna.flohr@example.com  1980-01-23T12:37:19.195Z   \n",
       "3       letitia.cox@example.com  1959-10-05T20:49:22.905Z   \n",
       "4      flurin.roche@example.com  1972-03-18T06:22:43.341Z   \n",
       "5      verena.marie@example.com  1970-07-30T21:41:34.071Z   \n",
       "6  annabelle.miller@example.com  1966-04-25T14:26:39.438Z   \n",
       "7     ozsu.beserler@example.com  1974-05-07T19:41:22.012Z   \n",
       "8    jeremiah.burke@example.com  1985-04-14T00:50:04.289Z   \n",
       "9      jeton.dufour@example.com  1985-02-06T05:26:09.557Z   \n",
       "\n",
       "                                            Picture  \n",
       "0  https://randomuser.me/api/portraits/women/40.jpg  \n",
       "1    https://randomuser.me/api/portraits/men/40.jpg  \n",
       "2   https://randomuser.me/api/portraits/women/2.jpg  \n",
       "3  https://randomuser.me/api/portraits/women/70.jpg  \n",
       "4    https://randomuser.me/api/portraits/men/75.jpg  \n",
       "5  https://randomuser.me/api/portraits/women/42.jpg  \n",
       "6   https://randomuser.me/api/portraits/women/1.jpg  \n",
       "7  https://randomuser.me/api/portraits/women/43.jpg  \n",
       "8     https://randomuser.me/api/portraits/men/3.jpg  \n",
       "9    https://randomuser.me/api/portraits/men/74.jpg  "
      ]
     },
     "execution_count": 11,
     "metadata": {},
     "output_type": "execute_result"
    }
   ],
   "source": [
    "get_users()"
   ]
  },
  {
   "cell_type": "code",
   "execution_count": 11,
   "metadata": {},
   "outputs": [
    {
     "data": {
      "text/html": [
       "<div>\n",
       "<style scoped>\n",
       "    .dataframe tbody tr th:only-of-type {\n",
       "        vertical-align: middle;\n",
       "    }\n",
       "\n",
       "    .dataframe tbody tr th {\n",
       "        vertical-align: top;\n",
       "    }\n",
       "\n",
       "    .dataframe thead th {\n",
       "        text-align: right;\n",
       "    }\n",
       "</style>\n",
       "<table border=\"1\" class=\"dataframe\">\n",
       "  <thead>\n",
       "    <tr style=\"text-align: right;\">\n",
       "      <th></th>\n",
       "      <th>Name</th>\n",
       "      <th>Gender</th>\n",
       "      <th>City</th>\n",
       "      <th>State</th>\n",
       "      <th>Email</th>\n",
       "      <th>DOB</th>\n",
       "      <th>Picture</th>\n",
       "    </tr>\n",
       "  </thead>\n",
       "  <tbody>\n",
       "    <tr>\n",
       "      <th>0</th>\n",
       "      <td>Emily Chu</td>\n",
       "      <td>female</td>\n",
       "      <td>Havelock</td>\n",
       "      <td>Nunavut</td>\n",
       "      <td>emily.chu@example.com</td>\n",
       "      <td>1994-11-16T06:52:14.990Z</td>\n",
       "      <td>https://randomuser.me/api/portraits/women/18.jpg</td>\n",
       "    </tr>\n",
       "    <tr>\n",
       "      <th>1</th>\n",
       "      <td>Emilia Cruz</td>\n",
       "      <td>female</td>\n",
       "      <td>Alcalá de Henares</td>\n",
       "      <td>Melilla</td>\n",
       "      <td>emilia.cruz@example.com</td>\n",
       "      <td>1956-11-22T05:05:40.606Z</td>\n",
       "      <td>https://randomuser.me/api/portraits/women/1.jpg</td>\n",
       "    </tr>\n",
       "    <tr>\n",
       "      <th>2</th>\n",
       "      <td>آدرین موسوی</td>\n",
       "      <td>male</td>\n",
       "      <td>قرچک</td>\n",
       "      <td>هرمزگان</td>\n",
       "      <td>adryn.mwswy@example.com</td>\n",
       "      <td>1991-11-11T06:57:09.980Z</td>\n",
       "      <td>https://randomuser.me/api/portraits/men/64.jpg</td>\n",
       "    </tr>\n",
       "    <tr>\n",
       "      <th>3</th>\n",
       "      <td>Natalia Smestad</td>\n",
       "      <td>female</td>\n",
       "      <td>Langset</td>\n",
       "      <td>Finnmark - Finnmárku</td>\n",
       "      <td>natalia.smestad@example.com</td>\n",
       "      <td>1963-04-30T19:50:34.113Z</td>\n",
       "      <td>https://randomuser.me/api/portraits/women/92.jpg</td>\n",
       "    </tr>\n",
       "    <tr>\n",
       "      <th>4</th>\n",
       "      <td>Samuel Brar</td>\n",
       "      <td>male</td>\n",
       "      <td>Dorchester</td>\n",
       "      <td>British Columbia</td>\n",
       "      <td>samuel.brar@example.com</td>\n",
       "      <td>1970-03-28T08:37:30.587Z</td>\n",
       "      <td>https://randomuser.me/api/portraits/men/64.jpg</td>\n",
       "    </tr>\n",
       "    <tr>\n",
       "      <th>5</th>\n",
       "      <td>Manuela Soler</td>\n",
       "      <td>female</td>\n",
       "      <td>Parla</td>\n",
       "      <td>Aragón</td>\n",
       "      <td>manuela.soler@example.com</td>\n",
       "      <td>1976-04-21T00:16:42.939Z</td>\n",
       "      <td>https://randomuser.me/api/portraits/women/41.jpg</td>\n",
       "    </tr>\n",
       "    <tr>\n",
       "      <th>6</th>\n",
       "      <td>Caitlin Hall</td>\n",
       "      <td>female</td>\n",
       "      <td>Invercargill</td>\n",
       "      <td>Nelson</td>\n",
       "      <td>caitlin.hall@example.com</td>\n",
       "      <td>1983-03-25T13:12:25.781Z</td>\n",
       "      <td>https://randomuser.me/api/portraits/women/27.jpg</td>\n",
       "    </tr>\n",
       "    <tr>\n",
       "      <th>7</th>\n",
       "      <td>Greg Allen</td>\n",
       "      <td>male</td>\n",
       "      <td>Medford</td>\n",
       "      <td>Alabama</td>\n",
       "      <td>greg.allen@example.com</td>\n",
       "      <td>1984-05-30T23:04:31.261Z</td>\n",
       "      <td>https://randomuser.me/api/portraits/men/85.jpg</td>\n",
       "    </tr>\n",
       "    <tr>\n",
       "      <th>8</th>\n",
       "      <td>Lauri Salo</td>\n",
       "      <td>male</td>\n",
       "      <td>Äänekoski</td>\n",
       "      <td>Southern Ostrobothnia</td>\n",
       "      <td>lauri.salo@example.com</td>\n",
       "      <td>1993-09-30T23:00:15.486Z</td>\n",
       "      <td>https://randomuser.me/api/portraits/men/68.jpg</td>\n",
       "    </tr>\n",
       "    <tr>\n",
       "      <th>9</th>\n",
       "      <td>Jeanne Harcourt</td>\n",
       "      <td>female</td>\n",
       "      <td>Georgetown</td>\n",
       "      <td>Newfoundland and Labrador</td>\n",
       "      <td>jeanne.harcourt@example.com</td>\n",
       "      <td>1997-08-12T10:04:50.004Z</td>\n",
       "      <td>https://randomuser.me/api/portraits/women/55.jpg</td>\n",
       "    </tr>\n",
       "  </tbody>\n",
       "</table>\n",
       "</div>"
      ],
      "text/plain": [
       "              Name  Gender               City                      State  \\\n",
       "0        Emily Chu  female           Havelock                    Nunavut   \n",
       "1      Emilia Cruz  female  Alcalá de Henares                    Melilla   \n",
       "2      آدرین موسوی    male               قرچک                    هرمزگان   \n",
       "3  Natalia Smestad  female            Langset       Finnmark - Finnmárku   \n",
       "4      Samuel Brar    male         Dorchester           British Columbia   \n",
       "5    Manuela Soler  female              Parla                     Aragón   \n",
       "6     Caitlin Hall  female       Invercargill                     Nelson   \n",
       "7       Greg Allen    male            Medford                    Alabama   \n",
       "8       Lauri Salo    male          Äänekoski      Southern Ostrobothnia   \n",
       "9  Jeanne Harcourt  female         Georgetown  Newfoundland and Labrador   \n",
       "\n",
       "                         Email                       DOB  \\\n",
       "0        emily.chu@example.com  1994-11-16T06:52:14.990Z   \n",
       "1      emilia.cruz@example.com  1956-11-22T05:05:40.606Z   \n",
       "2      adryn.mwswy@example.com  1991-11-11T06:57:09.980Z   \n",
       "3  natalia.smestad@example.com  1963-04-30T19:50:34.113Z   \n",
       "4      samuel.brar@example.com  1970-03-28T08:37:30.587Z   \n",
       "5    manuela.soler@example.com  1976-04-21T00:16:42.939Z   \n",
       "6     caitlin.hall@example.com  1983-03-25T13:12:25.781Z   \n",
       "7       greg.allen@example.com  1984-05-30T23:04:31.261Z   \n",
       "8       lauri.salo@example.com  1993-09-30T23:00:15.486Z   \n",
       "9  jeanne.harcourt@example.com  1997-08-12T10:04:50.004Z   \n",
       "\n",
       "                                            Picture  \n",
       "0  https://randomuser.me/api/portraits/women/18.jpg  \n",
       "1   https://randomuser.me/api/portraits/women/1.jpg  \n",
       "2    https://randomuser.me/api/portraits/men/64.jpg  \n",
       "3  https://randomuser.me/api/portraits/women/92.jpg  \n",
       "4    https://randomuser.me/api/portraits/men/64.jpg  \n",
       "5  https://randomuser.me/api/portraits/women/41.jpg  \n",
       "6  https://randomuser.me/api/portraits/women/27.jpg  \n",
       "7    https://randomuser.me/api/portraits/men/85.jpg  \n",
       "8    https://randomuser.me/api/portraits/men/68.jpg  \n",
       "9  https://randomuser.me/api/portraits/women/55.jpg  "
      ]
     },
     "execution_count": 11,
     "metadata": {},
     "output_type": "execute_result"
    }
   ],
   "source": [
    "df1 = pd.DataFrame(get_users())  \n",
    "df1"
   ]
  },
  {
   "cell_type": "markdown",
   "metadata": {},
   "source": [
    "Now we have a *pandas* dataframe that can be used for any testing purposes that the tester might have.\n"
   ]
  },
  {
   "cell_type": "markdown",
   "metadata": {},
   "source": [
    "## Example 2: Fruityvice API\n",
    "\n",
    "Another, more common way to use APIs, is through `requests` library. The next lab, Requests and HTTP, will contain more information about requests.\n",
    "\n",
    "We will start by importing all required libraries.\n"
   ]
  },
  {
   "cell_type": "code",
   "execution_count": 12,
   "metadata": {},
   "outputs": [],
   "source": [
    "import requests\n",
    "import json"
   ]
  },
  {
   "cell_type": "markdown",
   "metadata": {},
   "source": [
    "We will obtain the [fruityvice](https://www.fruityvice.com) API data using `requests.get(\"url\")` function. The data is in a json format.\n"
   ]
  },
  {
   "cell_type": "code",
   "execution_count": 14,
   "metadata": {},
   "outputs": [],
   "source": [
    "data = requests.get(\"https://fruityvice.com/api/fruit/all\")"
   ]
  },
  {
   "cell_type": "markdown",
   "metadata": {},
   "source": [
    "We will retrieve results using `json.loads()` function.\n"
   ]
  },
  {
   "cell_type": "code",
   "execution_count": 16,
   "metadata": {},
   "outputs": [
    {
     "name": "stdout",
     "output_type": "stream",
     "text": [
      "Error decoding JSON: Expecting value: line 1 column 1 (char 0)\n"
     ]
    }
   ],
   "source": [
    "results=\"\" \n",
    "try:\n",
    "    results = json.loads(data.text)\n",
    "except json.JSONDecodeError as e:\n",
    "    print(f\"Error decoding JSON: {e}\")\n"
   ]
  },
  {
   "cell_type": "markdown",
   "metadata": {},
   "source": [
    "We will convert our json data into *pandas* data frame. \n"
   ]
  },
  {
   "cell_type": "code",
   "execution_count": 17,
   "metadata": {},
   "outputs": [
    {
     "ename": "ValueError",
     "evalue": "DataFrame constructor not properly called!",
     "output_type": "error",
     "traceback": [
      "\u001b[1;31m---------------------------------------------------------------------------\u001b[0m",
      "\u001b[1;31mValueError\u001b[0m                                Traceback (most recent call last)",
      "\u001b[1;32m~\\AppData\\Local\\Temp\\ipykernel_1124\\1379169323.py\u001b[0m in \u001b[0;36m?\u001b[1;34m()\u001b[0m\n\u001b[1;32m----> 1\u001b[1;33m \u001b[0mpd\u001b[0m\u001b[1;33m.\u001b[0m\u001b[0mDataFrame\u001b[0m\u001b[1;33m(\u001b[0m\u001b[0mresults\u001b[0m\u001b[1;33m)\u001b[0m\u001b[1;33m\u001b[0m\u001b[1;33m\u001b[0m\u001b[0m\n\u001b[0m",
      "\u001b[1;32m~\\anaconda3\\Lib\\site-packages\\pandas\\core\\frame.py\u001b[0m in \u001b[0;36m?\u001b[1;34m(self, data, index, columns, dtype, copy)\u001b[0m\n\u001b[0;32m    837\u001b[0m                 )\n\u001b[0;32m    838\u001b[0m         \u001b[1;31m# For data is scalar\u001b[0m\u001b[1;33m\u001b[0m\u001b[1;33m\u001b[0m\u001b[0m\n\u001b[0;32m    839\u001b[0m         \u001b[1;32melse\u001b[0m\u001b[1;33m:\u001b[0m\u001b[1;33m\u001b[0m\u001b[1;33m\u001b[0m\u001b[0m\n\u001b[0;32m    840\u001b[0m             \u001b[1;32mif\u001b[0m \u001b[0mindex\u001b[0m \u001b[1;32mis\u001b[0m \u001b[1;32mNone\u001b[0m \u001b[1;32mor\u001b[0m \u001b[0mcolumns\u001b[0m \u001b[1;32mis\u001b[0m \u001b[1;32mNone\u001b[0m\u001b[1;33m:\u001b[0m\u001b[1;33m\u001b[0m\u001b[1;33m\u001b[0m\u001b[0m\n\u001b[1;32m--> 841\u001b[1;33m                 \u001b[1;32mraise\u001b[0m \u001b[0mValueError\u001b[0m\u001b[1;33m(\u001b[0m\u001b[1;34m\"DataFrame constructor not properly called!\"\u001b[0m\u001b[1;33m)\u001b[0m\u001b[1;33m\u001b[0m\u001b[1;33m\u001b[0m\u001b[0m\n\u001b[0m\u001b[0;32m    842\u001b[0m \u001b[1;33m\u001b[0m\u001b[0m\n\u001b[0;32m    843\u001b[0m             \u001b[0mindex\u001b[0m \u001b[1;33m=\u001b[0m \u001b[0mensure_index\u001b[0m\u001b[1;33m(\u001b[0m\u001b[0mindex\u001b[0m\u001b[1;33m)\u001b[0m\u001b[1;33m\u001b[0m\u001b[1;33m\u001b[0m\u001b[0m\n\u001b[0;32m    844\u001b[0m             \u001b[0mcolumns\u001b[0m \u001b[1;33m=\u001b[0m \u001b[0mensure_index\u001b[0m\u001b[1;33m(\u001b[0m\u001b[0mcolumns\u001b[0m\u001b[1;33m)\u001b[0m\u001b[1;33m\u001b[0m\u001b[1;33m\u001b[0m\u001b[0m\n",
      "\u001b[1;31mValueError\u001b[0m: DataFrame constructor not properly called!"
     ]
    }
   ],
   "source": [
    "pd.DataFrame(results)"
   ]
  },
  {
   "cell_type": "markdown",
   "metadata": {},
   "source": [
    "The result is in a nested json format. The 'nutrition' column contains multiple subcolumns, so the data needs to be 'flattened' or normalized.\n"
   ]
  },
  {
   "cell_type": "code",
   "execution_count": 18,
   "metadata": {},
   "outputs": [
    {
     "ename": "NotImplementedError",
     "evalue": "",
     "output_type": "error",
     "traceback": [
      "\u001b[1;31m---------------------------------------------------------------------------\u001b[0m",
      "\u001b[1;31mNotImplementedError\u001b[0m                       Traceback (most recent call last)",
      "Cell \u001b[1;32mIn[18], line 1\u001b[0m\n\u001b[1;32m----> 1\u001b[0m df2 \u001b[38;5;241m=\u001b[39m pd\u001b[38;5;241m.\u001b[39mjson_normalize(results)\n",
      "File \u001b[1;32m~\\anaconda3\\Lib\\site-packages\\pandas\\io\\json\\_normalize.py:445\u001b[0m, in \u001b[0;36mjson_normalize\u001b[1;34m(data, record_path, meta, meta_prefix, record_prefix, errors, sep, max_level)\u001b[0m\n\u001b[0;32m    443\u001b[0m     data \u001b[38;5;241m=\u001b[39m \u001b[38;5;28mlist\u001b[39m(data)\n\u001b[0;32m    444\u001b[0m \u001b[38;5;28;01melse\u001b[39;00m:\n\u001b[1;32m--> 445\u001b[0m     \u001b[38;5;28;01mraise\u001b[39;00m \u001b[38;5;167;01mNotImplementedError\u001b[39;00m\n\u001b[0;32m    447\u001b[0m \u001b[38;5;66;03m# check to see if a simple recursive function is possible to\u001b[39;00m\n\u001b[0;32m    448\u001b[0m \u001b[38;5;66;03m# improve performance (see #15621) but only for cases such\u001b[39;00m\n\u001b[0;32m    449\u001b[0m \u001b[38;5;66;03m# as pd.Dataframe(data) or pd.Dataframe(data, sep)\u001b[39;00m\n\u001b[0;32m    450\u001b[0m \u001b[38;5;28;01mif\u001b[39;00m (\n\u001b[0;32m    451\u001b[0m     record_path \u001b[38;5;129;01mis\u001b[39;00m \u001b[38;5;28;01mNone\u001b[39;00m\n\u001b[0;32m    452\u001b[0m     \u001b[38;5;129;01mand\u001b[39;00m meta \u001b[38;5;129;01mis\u001b[39;00m \u001b[38;5;28;01mNone\u001b[39;00m\n\u001b[1;32m   (...)\u001b[0m\n\u001b[0;32m    455\u001b[0m     \u001b[38;5;129;01mand\u001b[39;00m max_level \u001b[38;5;129;01mis\u001b[39;00m \u001b[38;5;28;01mNone\u001b[39;00m\n\u001b[0;32m    456\u001b[0m ):\n",
      "\u001b[1;31mNotImplementedError\u001b[0m: "
     ]
    }
   ],
   "source": [
    "df2 = pd.json_normalize(results)"
   ]
  },
  {
   "cell_type": "code",
   "execution_count": null,
   "metadata": {},
   "outputs": [],
   "source": [
    "df2"
   ]
  },
  {
   "cell_type": "markdown",
   "metadata": {},
   "source": [
    "Let's see if we can extract some information from this dataframe. Perhaps, we need to know the family and genus of a cherry.\n"
   ]
  },
  {
   "cell_type": "code",
   "execution_count": null,
   "metadata": {},
   "outputs": [],
   "source": [
    "cherry = df2.loc[df2[\"name\"] == 'Cherry']\n",
    "(cherry.iloc[0]['family']) , (cherry.iloc[0]['genus'])"
   ]
  },
  {
   "cell_type": "markdown",
   "metadata": {},
   "source": [
    "## Exercise 2\n",
    "In this Exercise, find out how many calories are contained in a banana.\n"
   ]
  },
  {
   "cell_type": "code",
   "execution_count": null,
   "metadata": {},
   "outputs": [],
   "source": [
    "# Write your code here\n"
   ]
  },
  {
   "cell_type": "markdown",
   "metadata": {},
   "source": [
    "<details><summary>Click here for the solution</summary>\n",
    "\n",
    "```python\n",
    "cal_banana = df2.loc[df2[\"name\"] == 'Banana']\n",
    "cal_banana.iloc[0]['nutritions.calories']\n",
    "```\n",
    "\n",
    "</details>\n"
   ]
  },
  {
   "cell_type": "markdown",
   "metadata": {},
   "source": [
    "## Exercise 3\n",
    "\n",
    "This [page](https://mixedanalytics.com/blog/list-actually-free-open-no-auth-needed-apis/) contains a list of free public APIs for you to practice. Let us deal with the following example.\n",
    "\n",
    "#### Official Joke API \n",
    "This API returns random jokes from a database. The following URL can be used to retrieve 10 random jokes.\n",
    "\n",
    "https://official-joke-api.appspot.com/jokes/ten\n",
    "\n",
    "1. Using `requests.get(\"url\")` function, load the data from the URL.\n"
   ]
  },
  {
   "cell_type": "code",
   "execution_count": 20,
   "metadata": {},
   "outputs": [],
   "source": [
    "# Write your code here\n",
    "data2 = requests.get(\"https://official-joke-api.appspot.com/jokes/ten\")\n"
   ]
  },
  {
   "cell_type": "markdown",
   "metadata": {},
   "source": [
    "<details><summary>Click here for the solution</summary>\n",
    "\n",
    "```python\n",
    "data2 = requests.get(\"https://official-joke-api.appspot.com/jokes/ten\")\n",
    "```\n",
    "\n",
    "</details>\n"
   ]
  },
  {
   "cell_type": "markdown",
   "metadata": {},
   "source": [
    "2. Retrieve results using `json.loads()` function.\n"
   ]
  },
  {
   "cell_type": "code",
   "execution_count": 23,
   "metadata": {},
   "outputs": [],
   "source": [
    "# Write your code here\n",
    "jsondata = json.loads(data2.text)\n"
   ]
  },
  {
   "cell_type": "markdown",
   "metadata": {},
   "source": [
    "<details><summary>Click here for the solution</summary>\n",
    "\n",
    "```python\n",
    "results2 = json.loads(data2.text)\n",
    "```\n",
    "\n",
    "</details>\n"
   ]
  },
  {
   "cell_type": "markdown",
   "metadata": {},
   "source": [
    "3. Convert json data into *pandas* data frame. Drop the type and id columns.\n"
   ]
  },
  {
   "cell_type": "code",
   "execution_count": 27,
   "metadata": {},
   "outputs": [
    {
     "data": {
      "text/html": [
       "<div>\n",
       "<style scoped>\n",
       "    .dataframe tbody tr th:only-of-type {\n",
       "        vertical-align: middle;\n",
       "    }\n",
       "\n",
       "    .dataframe tbody tr th {\n",
       "        vertical-align: top;\n",
       "    }\n",
       "\n",
       "    .dataframe thead th {\n",
       "        text-align: right;\n",
       "    }\n",
       "</style>\n",
       "<table border=\"1\" class=\"dataframe\">\n",
       "  <thead>\n",
       "    <tr style=\"text-align: right;\">\n",
       "      <th></th>\n",
       "      <th>setup</th>\n",
       "      <th>punchline</th>\n",
       "    </tr>\n",
       "  </thead>\n",
       "  <tbody>\n",
       "    <tr>\n",
       "      <th>0</th>\n",
       "      <td>How many hipsters does it take to change a lig...</td>\n",
       "      <td>Oh, it's a really obscure number. You've proba...</td>\n",
       "    </tr>\n",
       "    <tr>\n",
       "      <th>1</th>\n",
       "      <td>Why is peter pan always flying?</td>\n",
       "      <td>Because he neverlands</td>\n",
       "    </tr>\n",
       "    <tr>\n",
       "      <th>2</th>\n",
       "      <td>Why do wizards clean their teeth three times a...</td>\n",
       "      <td>To prevent bat breath!</td>\n",
       "    </tr>\n",
       "    <tr>\n",
       "      <th>3</th>\n",
       "      <td>What's red and bad for your teeth?</td>\n",
       "      <td>A Brick.</td>\n",
       "    </tr>\n",
       "    <tr>\n",
       "      <th>4</th>\n",
       "      <td>3 SQL statements walk into a NoSQL bar. Soon, ...</td>\n",
       "      <td>They couldn't find a table.</td>\n",
       "    </tr>\n",
       "    <tr>\n",
       "      <th>5</th>\n",
       "      <td>did you know the first French fries weren't co...</td>\n",
       "      <td>they were cooked in Greece</td>\n",
       "    </tr>\n",
       "    <tr>\n",
       "      <th>6</th>\n",
       "      <td>What do you call a group of killer whales play...</td>\n",
       "      <td>An Orca-stra.</td>\n",
       "    </tr>\n",
       "    <tr>\n",
       "      <th>7</th>\n",
       "      <td>Why don't eggs tell jokes?</td>\n",
       "      <td>Because they would crack each other up.</td>\n",
       "    </tr>\n",
       "    <tr>\n",
       "      <th>8</th>\n",
       "      <td>Why did the programmer always mix up Halloween...</td>\n",
       "      <td>Because Oct 31 equals Dec 25.</td>\n",
       "    </tr>\n",
       "    <tr>\n",
       "      <th>9</th>\n",
       "      <td>How do you organize a space party?</td>\n",
       "      <td>You planet.</td>\n",
       "    </tr>\n",
       "  </tbody>\n",
       "</table>\n",
       "</div>"
      ],
      "text/plain": [
       "                                               setup  \\\n",
       "0  How many hipsters does it take to change a lig...   \n",
       "1                    Why is peter pan always flying?   \n",
       "2  Why do wizards clean their teeth three times a...   \n",
       "3                 What's red and bad for your teeth?   \n",
       "4  3 SQL statements walk into a NoSQL bar. Soon, ...   \n",
       "5  did you know the first French fries weren't co...   \n",
       "6  What do you call a group of killer whales play...   \n",
       "7                         Why don't eggs tell jokes?   \n",
       "8  Why did the programmer always mix up Halloween...   \n",
       "9                 How do you organize a space party?   \n",
       "\n",
       "                                           punchline  \n",
       "0  Oh, it's a really obscure number. You've proba...  \n",
       "1                              Because he neverlands  \n",
       "2                             To prevent bat breath!  \n",
       "3                                           A Brick.  \n",
       "4                        They couldn't find a table.  \n",
       "5                         they were cooked in Greece  \n",
       "6                                      An Orca-stra.  \n",
       "7            Because they would crack each other up.  \n",
       "8                      Because Oct 31 equals Dec 25.  \n",
       "9                                        You planet.  "
      ]
     },
     "execution_count": 27,
     "metadata": {},
     "output_type": "execute_result"
    }
   ],
   "source": [
    "# Write your code here\n",
    "df = pd.DataFrame(jsondata)\n",
    "df.drop(columns=[\"id\",\"type\"],inplace=True)\n",
    "df"
   ]
  },
  {
   "cell_type": "markdown",
   "metadata": {},
   "source": [
    "<details><summary>Click here for the solution</summary>\n",
    "\n",
    "```python\n",
    "df3 = pd.DataFrame(results2)\n",
    "df3.drop(columns=[\"type\",\"id\"],inplace=True)\n",
    "df3\n",
    "```\n",
    "\n",
    "</details>\n"
   ]
  },
  {
   "cell_type": "markdown",
   "metadata": {},
   "source": [
    "# Congratulations! - You have completed the lab\n"
   ]
  },
  {
   "cell_type": "markdown",
   "metadata": {},
   "source": [
    "## Author\n",
    "<a href=\"https://www.linkedin.com/in/svitlana-kramar\" target=\"_blank\">Svitlana Kramar</a>\n",
    "\n",
    "Svitlana is a master’s degree Data Science and Analytics student at University of Calgary, who enjoys travelling, learning new languages and cultures and loves spreading her passion for Data Science.\n",
    "\n",
    "## Additional Contributor\n",
    "<a href=\"https://www.linkedin.com/in/abhishek-gagneja-23051987/\" target=\"_blank\">Abhishek Gagneja</a>\n"
   ]
  },
  {
   "cell_type": "markdown",
   "metadata": {},
   "source": [
    "Copyright © 2023 IBM Corporation. All rights reserved.\n"
   ]
  }
 ],
 "metadata": {
  "kernelspec": {
   "display_name": "Python 3 (ipykernel)",
   "language": "python",
   "name": "python3"
  },
  "language_info": {
   "codemirror_mode": {
    "name": "ipython",
    "version": 3
   },
   "file_extension": ".py",
   "mimetype": "text/x-python",
   "name": "python",
   "nbconvert_exporter": "python",
   "pygments_lexer": "ipython3",
   "version": "3.11.7"
  },
  "prev_pub_hash": "73d1fd5ac59263ce16a9e6c348ceb15598c83db15f2f93df0fa6870771475eea"
 },
 "nbformat": 4,
 "nbformat_minor": 4
}
